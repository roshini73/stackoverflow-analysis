{
  "nbformat": 4,
  "nbformat_minor": 0,
  "metadata": {
    "colab": {
      "name": "Copy of Copy of project3_stackoverflow.ipynb",
      "version": "0.3.2",
      "provenance": [],
      "collapsed_sections": [
        "EnJ1edQfB16v",
        "goHxOuV0oZmK",
        "LszEzT1moyxJ",
        "R5qilhmWo8FF",
        "_hO92TPPWJXj",
        "3BnnT9sFW04t",
        "bsA3ofWZXCFG",
        "mCZyn4jq81b_",
        "EzVVPeDYqn3q",
        "FgCu4Y4hIi9g",
        "pRBGbCylIscD",
        "pnfzgndkrVh6",
        "p5vv-HHFLN6c",
        "l2-t5UopLWmZ",
        "Sek-Id20rcQV",
        "SObivkfjW3Zt",
        "yS8mCARkW5og",
        "BzzExg7hrghB",
        "cAtHoo9VkMKh",
        "udpGJhd-eIzh",
        "p3TREtxmrk0e",
        "_H5dKxFg6RmW",
        "1-5WWRwt6e-K",
        "VMNQAAbKTrSO",
        "GMPN_TRPv3io",
        "hb0FcIQwjIsx",
        "AKhYoI7zWtDg",
        "XUhZWnHpJL8C"
      ]
    },
    "kernelspec": {
      "name": "python3",
      "display_name": "Python 3"
    }
  },
  "cells": [
    {
      "metadata": {
        "colab_type": "text",
        "id": "Coh3zpF4BKNC"
      },
      "cell_type": "markdown",
      "source": [
        "# Section II | Stack Visualizing!\n",
        "---"
      ]
    },
    {
      "metadata": {
        "id": "QFnhdhF2FwA0",
        "colab_type": "text"
      },
      "cell_type": "markdown",
      "source": [
        "# Our Question: What factors most accurately predict the score of a question on StackOverflow?"
      ]
    },
    {
      "metadata": {
        "id": "VMNQAAbKTrSO",
        "colab_type": "text"
      },
      "cell_type": "markdown",
      "source": [
        "## Part 3: Observation Summary & Analysis"
      ]
    },
    {
      "metadata": {
        "id": "2L6uVjU2ktmQ",
        "colab_type": "text"
      },
      "cell_type": "markdown",
      "source": [
        "Note: The following metrics are visualized in multiple ways: first metric vs average score in the form of a simple histogram, then a normalized stacked bar chart. We found that often these initial visualizations were misleading because of outliers so we incorporated the “numOfInstances” variable which indicates how many data points fell into a particular category. If our first normalized stacked bar chart appeared to have a lot of data points clustered within a certain score range or a certain metric subgroup, we included additional normalized stacked bar charts to more accurately analyze a trend.\n",
        "\n",
        "Not all metrics analyzed were applicable to both questions and answers.\n",
        "Metrics analyzed:\n",
        "\n",
        "\n",
        "*   Questions: length of question, number of tags, number of answers, number of favorites, number of views, user views, user reputation, comment length, number of relevant badges, question to answer ratio\n",
        "*   Answers:  length of answer, user views, user reputation, comment length, number of relevant badges, question to answer ratio\n",
        "\n"
      ]
    },
    {
      "metadata": {
        "id": "GMPN_TRPv3io",
        "colab_type": "text"
      },
      "cell_type": "markdown",
      "source": [
        "### Analysis of Metrics from Part I\n"
      ]
    },
    {
      "metadata": {
        "id": "ElyUaVwRjLab",
        "colab_type": "text"
      },
      "cell_type": "markdown",
      "source": [
        "Length of a question (1a): \n",
        "\n",
        "*  doesn’t seem to be a strong positive correlation\n",
        "*   proportion of questions with length 0-2500 characters doesn’t consistently decrease as the score increases \n",
        "*\tproportion of questions that have 7500+ characters doesn’t consistently increase as the score increases \n",
        "*\tinitially seemed counterintuitive\n",
        "* more detailed question seems like it would be better than a shorter question;\n",
        "*\tbut long question can be either wordy or specific just as a short question can either be concise or vague.\n",
        "\n",
        "Length of an answer (1b): \n",
        "*\tseems to be relatively strong positive correlation \n",
        "*\tfirst graph doesn’t indicate this as clearly as the two graphs succeeding it\n",
        "*\tproportion of answers with length 5000-7500+ characters increases as the score increases  \n",
        "*\tproportion of answers with length 0-5000 characters gradually decreases as the score increases\n",
        "*\tmakes intuitive sense \n",
        "*\tasker is seeking a comprehensive answer which requires a longer response\n",
        "*\tshort response even if correct can be less effective, can come off as unresponsive and disinterested.\n",
        "\n",
        "Number of Tags (1c): \n",
        "*\tseems to be a positive correlation – not very strong \n",
        "*\ttags are words or phrases that describe the topic of the question – a means of sorting questions into specific, well-defined categories (https://stackoverflow.com/help/tagging). \n",
        "*\tEach question can contain 5 tags at a maximum – perhaps relationship not as strong because variation in number of tags is limited to 0-5 range\n",
        "*\ta good question not always on very specific topic\n",
        "*\tsometimes most common questions about broader topics \n",
        "*\tspecific question may not be popular if nuanced to the point of being inapplicable to most users\n",
        "\n",
        "Number of answers to a question (1d): \n",
        "*\tseems to be strong positive correlation\n",
        "*\tthird graph indicates number of questions with 20+ answers increases as question score increases\n",
        "*\tmany very similar questions on Stackoverflow, the distinction between scores of such questions is often dependent on the answers to it. Question A, even if it essentially is the same as Question B intuitively should have a higher score if it has better answers. \n",
        "*\tpossible that just one answer can be sufficient, but multiple answers provide more insight and understanding\n",
        "\n",
        "Number of favorites on a question (1e): \n",
        "*\tseems to be a strong positive correlation\n",
        "*\tusers upvote a post when they find it important or relevant\n",
        "*\tfavorite is used to “bookmark” a question – probably used when a question is found important or relevant \n",
        "*\tintuitively makes sense that these two factors would be related \n",
        "\n",
        "Number of views on a question (1f): \n",
        "*\tgenerally positive correlation \n",
        "*\tmore people view a question –> more people to upvote or downvote a question\n",
        "*\tdownvotes also increase in count but overall score would increase for questions where proportion of people upvoting > proportion of people downvoting.\n",
        "\n"
      ]
    },
    {
      "metadata": {
        "id": "hb0FcIQwjIsx",
        "colab_type": "text"
      },
      "cell_type": "markdown",
      "source": [
        "### Analysis of Metrics from Part II"
      ]
    },
    {
      "metadata": {
        "id": "X7KMWHKijzya",
        "colab_type": "text"
      },
      "cell_type": "markdown",
      "source": [
        "User Views(2a): \n",
        "*\trefers to the number of views a user profile has\n",
        "*\tseems to be a positive correlation based on graphs from 2ai and 2aii\n",
        "*\tuser views a representation of user popularity on Stackoverflow \n",
        "*\tnature of Stackoverflow implies popular users are asking the best questions or giving the best answers\n",
        "\n",
        "User Reputation (2b): \n",
        "*\tquite a strong correlation \n",
        "*\treputation a rough measurement of how much the community trusts you\n",
        "*\tprimary way to gain reputation is by posting good questions and useful answers. Upvotes on posts increases a user’s reputation (https://stackoverflow.com/help/whats-reputation). \n",
        "*\tuser who has been established as knowledgeable likely asks good questions and gives good answers, increasing the score of their posts and therefore increasing their reputation as well – a positive feedback loop.\n",
        "\n",
        "Comment Length(2c): \n",
        "*\tthe overall average graph for both questions and answers indicates strong positive correlation\n",
        "*\tbreaking data down shows relationship isn’t as strong as it initially seems \n",
        "*\tcorrelation was surprising\n",
        "*\tweren’t expecting length of comments succeeding a post to influence score\n",
        "*\tperhaps when follow up comments are made and fruitful discussion takes place in the comments –initial post is upvoted.\n",
        "\n",
        "Number of relevant badges(2d): \n",
        "*\tusers receive badges for being especially helpful on Stackoverflow\n",
        "*\tdifferent types of badges – relating to asking questions, answering questions, other types less relevant to our primary question (https://stackoverflow.com/help/badges). The graphs in 2di and 2dii indicate that there is \n",
        "*\tpositive correlation between the number of question-badges a user has and a question’s score \n",
        "*\tpositive correlation between the number of answer-badges a user has and an answer’s score\n",
        "*\tneither correlation exceptionally strong\n",
        "*\tpossibly because badges are limited\n",
        "*\tex: user can consistently ask questions that get 1000 views but would never get the “Notable Question” badge which is only awarded when a user’s question gets 2,500 views. \n",
        "\n",
        "Question to answer ratio(2e): \n",
        "*\tquite a strong negative correlation between ratio and answer score \n",
        "*\tnegative correlation between ratio and question score is less strong\n",
        "*\tdecreasing ratio means user has answered more questions than they’ve asked – suggesting they’re more knowledgeable\n",
        "*\tmore knowledgeable user probably asking higher-level questions with better scores but questions might be esoteric – doesn’t encourage high question score\n",
        "*\tmore knowledgeable user will almost always give the best answers though – explaining strength of relationship between ratio and answer score\n"
      ]
    }
  ]
}