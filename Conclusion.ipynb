{
  "nbformat": 4,
  "nbformat_minor": 0,
  "metadata": {
    "colab": {
      "name": "Conclusion of project3_stackoverflow.ipynb",
      "version": "0.3.2",
      "provenance": [],
      "collapsed_sections": [
        "EnJ1edQfB16v",
        "goHxOuV0oZmK",
        "LszEzT1moyxJ",
        "R5qilhmWo8FF",
        "_hO92TPPWJXj",
        "3BnnT9sFW04t",
        "bsA3ofWZXCFG",
        "mCZyn4jq81b_",
        "EzVVPeDYqn3q",
        "FgCu4Y4hIi9g",
        "pRBGbCylIscD",
        "pnfzgndkrVh6",
        "p5vv-HHFLN6c",
        "l2-t5UopLWmZ",
        "Sek-Id20rcQV",
        "SObivkfjW3Zt",
        "yS8mCARkW5og",
        "BzzExg7hrghB",
        "cAtHoo9VkMKh",
        "udpGJhd-eIzh",
        "p3TREtxmrk0e",
        "_H5dKxFg6RmW",
        "1-5WWRwt6e-K",
        "VMNQAAbKTrSO",
        "GMPN_TRPv3io",
        "hb0FcIQwjIsx",
        "AKhYoI7zWtDg",
        "XUhZWnHpJL8C"
      ]
    },
    "kernelspec": {
      "name": "python3",
      "display_name": "Python 3"
    }
  },
  "cells": [
    {
      "metadata": {
        "colab_type": "text",
        "id": "GZvPLVvwBbfK"
      },
      "cell_type": "markdown",
      "source": [
        "# Conclusion"
      ]
    },
    {
      "metadata": {
        "colab_type": "text",
        "id": "JcwEQ7KgBbe-"
      },
      "cell_type": "markdown",
      "source": [
        "Our first question score prediction model was astoundingly accurate. We were initially quite surprised, so we looked into why this could be the case. The first is that the vast majority of posts actually have scores of 50 or less. It's likely that the model was so accurate because, out of over 16.3 million question posts, 15.1 of them have ratings of 5 or less. More precisely, only about 63 thousand have ratings greater than or equal to 50. We discarded all questions with ratings less than or equal to 10 on our next attempts.\n",
        "\n",
        "It turns out that it is difficult to make predictions about scores on much of this dataset, because the vast majority of questions have very small scores or none at all. We suspect that the strongest corrolaries for question score, however, are the score of the selected answer and the number of views the question had. If we had more time we would have examined answer scores as well, especially considering how the answer selection system is influenced by voting on Stack Overflow.\n",
        "\n",
        "**Note:** \n",
        "* Evaluated on posts made in months January - June of 2018 (1143734 posts)\n",
        "* Predicted on posts made July 2018 or later (402990 posts)\n",
        "* Trained on the remaining ~15M posts"
      ]
    }
  ]
}