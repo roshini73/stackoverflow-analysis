{
  "nbformat": 4,
  "nbformat_minor": 0,
  "metadata": {
    "colab": {
      "name": "Copy of Copy of project3_stackoverflow.ipynb",
      "version": "0.3.2",
      "provenance": [],
      "collapsed_sections": [
        "EnJ1edQfB16v",
        "goHxOuV0oZmK",
        "LszEzT1moyxJ",
        "R5qilhmWo8FF",
        "_hO92TPPWJXj",
        "3BnnT9sFW04t",
        "bsA3ofWZXCFG",
        "mCZyn4jq81b_",
        "EzVVPeDYqn3q",
        "FgCu4Y4hIi9g",
        "pRBGbCylIscD",
        "pnfzgndkrVh6",
        "p5vv-HHFLN6c",
        "l2-t5UopLWmZ",
        "Sek-Id20rcQV",
        "SObivkfjW3Zt",
        "yS8mCARkW5og",
        "BzzExg7hrghB",
        "cAtHoo9VkMKh",
        "udpGJhd-eIzh",
        "p3TREtxmrk0e",
        "_H5dKxFg6RmW",
        "1-5WWRwt6e-K",
        "VMNQAAbKTrSO",
        "GMPN_TRPv3io",
        "hb0FcIQwjIsx",
        "AKhYoI7zWtDg",
        "XUhZWnHpJL8C"
      ]
    },
    "kernelspec": {
      "name": "python3",
      "display_name": "Python 3"
    }
  },
  "cells": [
    {
      "metadata": {
        "id": "Isn4lfWwxvqR",
        "colab_type": "text"
      },
      "cell_type": "markdown",
      "source": [
        "Notebook: https://colab.research.google.com/drive/1Svql04c2t1r_8TuJi7jJ0q7Jf4byYoVK"
      ]
    },
    {
      "metadata": {
        "id": "DFYMic5WaqfJ",
        "colab_type": "text"
      },
      "cell_type": "markdown",
      "source": [
        "## Setting Up BigQuery and Dependencies"
      ]
    },
    {
      "metadata": {
        "id": "J2HMMh9Macua",
        "colab_type": "text"
      },
      "cell_type": "markdown",
      "source": [
        "Run the two cells below (shift + enter) to authenticate project and import the libraries. \n",
        "\n",
        "Fill in  `project_id` variable with the Google Cloud project id.  See project ID by going to https://console.cloud.google.com/cloud-resource-manager.\n",
        "\n"
      ]
    },
    {
      "metadata": {
        "id": "MeTfGaQ6UBEY",
        "colab_type": "code",
        "colab": {}
      },
      "cell_type": "code",
      "source": [
        "# Run this cell to authenticate yourself to BigQuery.\n",
        "from google.colab import auth\n",
        "auth.authenticate_user()\n",
        "project_id = \"project-3-223804\""
      ],
      "execution_count": 0,
      "outputs": []
    },
    {
      "metadata": {
        "id": "O66tqpEIs_sG",
        "colab_type": "code",
        "colab": {}
      },
      "cell_type": "code",
      "source": [
        "# Some imports you will need\n",
        "import seaborn as sns\n",
        "import matplotlib as mpl\n",
        "import matplotlib.pyplot as plt\n",
        "import numpy as np\n",
        "\n",
        "%matplotlib inline\n",
        "plt.style.use('seaborn-whitegrid')"
      ],
      "execution_count": 0,
      "outputs": []
    },
    {
      "metadata": {
        "id": "9ZdPxUGgmR4x",
        "colab_type": "text"
      },
      "cell_type": "markdown",
      "source": [
        "# Section I | Understanding the StackOverflow Dataset\n",
        "---"
      ]
    },
    {
      "metadata": {
        "id": "iQwsmJrtBnU4",
        "colab_type": "text"
      },
      "cell_type": "markdown",
      "source": [
        "##Initial Data Analysis\n",
        "\n"
      ]
    },
    {
      "metadata": {
        "id": "JYPYmwYZDrGe",
        "colab_type": "text"
      },
      "cell_type": "markdown",
      "source": [
        "---\n",
        "This dataset is constructed around the relationship between users and their posts. Each table entry is affiliated with either a user_id or a post_id. Because a user can make or answer many posts and posts are collaboratively constructed by multiple users, there are tables corresponding to specific post elements, like questions, answers and comments, each with their own ids. The superkey of each element in a table is its table-specific id, but a relationship between the tables can be easily constructed because of their connections to users and posts.\n",
        "This dataset is in BCNF. There no redundancies in the contents of the tuples. While there is duplicate information,  in the sense that there are many distinct tables all affiliated by a shared entity, in this case a post or user. Users and posts can have many instances of the same type of attribute. A post can have multiple answers and comments. A user can make multiple posts. This means that the tables in this dataset could not be further reduced without introducing redundancy or giving users and posts had non-atomic types, for example, an array of the ids of their posts. This seems like it would be cumbersome to construct queries for. With this structure, each entity affiliated with a post or a user has an entity-specific id. For example, each entry in the question table has a question id. This way their affiliate information is not duplicated and the id acts as a key for that table. \n",
        "![alt text](https://drive.google.com/uc?export=view&id=1CjQ3PV8AdpeG5DB3buoI3T8Xzdq7ED9e)\n",
        "\n",
        "\n",
        "---"
      ]
    }
  ]
}